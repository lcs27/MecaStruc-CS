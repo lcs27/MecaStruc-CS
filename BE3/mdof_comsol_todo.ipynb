{
 "cells": [
  {
   "cell_type": "markdown",
   "metadata": {},
   "source": [
    "# __Dynamic Response of a Multi-Story building with _`COMSOL Multiphysics`_ __\n",
    "## __Hands on__\n",
    "\n",
    "GRAPHS WITHOUT LEGENDS AND UNITS WILL NOT BE CONSIDERED!!"
   ]
  },
  {
   "cell_type": "markdown",
   "metadata": {},
   "source": [
    "<img style='width: 700px; margin: 0px; float: left; border: 0px solid black;' src=\"images/comsol_building.png\">"
   ]
  },
  {
   "cell_type": "markdown",
   "metadata": {},
   "source": [
    "#### Setup"
   ]
  },
  {
   "cell_type": "code",
   "execution_count": null,
   "metadata": {},
   "outputs": [],
   "source": [
    "# Load fundamental modules\n",
    "from math import sin\n",
    "import numpy as np\n",
    "import pandas as pd\n",
    "from numpy.linalg import inv, norm\n",
    "from scipy.linalg import eigh\n",
    "from scipy.signal import find_peaks\n",
    "from matplotlib import pyplot as plt"
   ]
  },
  {
   "cell_type": "code",
   "execution_count": null,
   "metadata": {},
   "outputs": [],
   "source": [
    "# Set up properties\n",
    "dofs = 3 # number of dofs\n",
    "Lx = 5 # Floor x-side [m]\n",
    "Ly = 5 # Floor y-side [m]\n",
    "ft = 0.3 # Floor thickness [m]\n",
    "\n",
    "Hf = 3 # Floor's height [m]\n",
    "bc = 0.3 # Cross sectional base for column elements [m]\n",
    "hc = 0.3 # Cross sectional height for column elements [m]\n",
    "\n",
    "E_floor = 25e9 # Floor concrete Young's modulus [Pa]\n",
    "E_beam = 28.3e9 # Beam/Column concrete Young's modulus [Pa]\n",
    "\n",
    "rho_floor = 2300 # Floor concrete unit mass density [kg/m^3]\n",
    "rho_beam = 500 # Beam/Column concrete unit mass density [kg/m^3]\n",
    "\n",
    "# time vector\n",
    "dt = 1.0e-2 # time step\n",
    "dur = 60.0 # duration\n",
    "vtm = np.arange(0.0,dur,dt) # time vector\n",
    "ntm = vtm.size # number of time steps\n",
    "\n",
    "# Compute the transfer function using the Fast Fourier Transform (use np.fft.rfft - https://numpy.org/doc/stable/reference/generated/numpy.fft.fft.html)\n",
    "def next_power_of_2(x):  \n",
    "    return 1 if x == 0 else 2**(x - 1).bit_length()\n",
    "\n",
    "# earthquake input acceleration (inertial force)  [time (s),acceleration (m/s/s)]\n",
    "eqk = np.loadtxt(\"seisme.txt\")\n",
    "aeq = lambda s: np.interp(s,eqk[:,0],eqk[:,1])\n",
    "plt.ion()\n",
    "plt.plot(vtm,aeq(vtm),label=r\"$a_{ext}$\")\n",
    "plt.xlim(0.0,dur)\n",
    "plt.xlabel(r'$t [s]$')\n",
    "plt.ylabel(r'$a [m/s/s]$')\n",
    "plt.legend(frameon=False)\n",
    "plt.ioff()\n",
    "plt.show()"
   ]
  },
  {
   "cell_type": "markdown",
   "metadata": {},
   "source": [
    "#### __[TASK #1] _`COMSOL Multiphysic`_ 3D Modal Shapes and Eigen-frequencies__ [1/20 points]"
   ]
  },
  {
   "cell_type": "markdown",
   "metadata": {},
   "source": [
    "In the `Global Definitions`, select `Nx`=`Ny`=1 and `Nf`=3, with no missing frames\n",
    "(`Mx`=`My`=`Mf`=0). \n",
    "\n",
    "Rebuild the `Geometry` by building all the entities (in `Form Union (fin)`)\n",
    "\n",
    "* Compute the `Eigenfrequencies` study for 10 Eigen-frequencies (real) around 1 Hz and\n",
    "report the corresponding `Modal Shapes` here (snapshots and frequency values to be placed in the cell Report the Modal Shapes Eigen-frequencies from _`COMSOL Multiphysics`_)"
   ]
  },
  {
   "cell_type": "markdown",
   "metadata": {},
   "source": [
    "<img style='width: 500px; margin: 0px; float: left; border: 0px solid black;' src=\"fn1.png\">"
   ]
  },
  {
   "cell_type": "markdown",
   "metadata": {},
   "source": [
    "<img style='width: 500px; margin: 0px; float: left; border: 0px solid black;' src=\"fn2.png\">"
   ]
  },
  {
   "cell_type": "markdown",
   "metadata": {},
   "source": [
    "<img style='width: 500px; margin: 0px; float: left; border: 0px solid black;' src=\"fn3.png\">"
   ]
  },
  {
   "cell_type": "markdown",
   "metadata": {},
   "source": [
    "<img style='width: 500px; margin: 0px; float: left; border: 0px solid black;' src=\"fn4.png\">"
   ]
  },
  {
   "cell_type": "markdown",
   "metadata": {},
   "source": [
    "<img style='width: 500px; margin: 0px; float: left; border: 0px solid black;' src=\"fn5.png\">"
   ]
  },
  {
   "cell_type": "markdown",
   "metadata": {},
   "source": [
    "<img style='width: 500px; margin: 0px; float: left; border: 0px solid black;' src=\"fn6.png\">"
   ]
  },
  {
   "cell_type": "markdown",
   "metadata": {},
   "source": [
    "<img style='width: 500px; margin: 0px; float: left; border: 0px solid black;' src=\"fn8.png\">"
   ]
  },
  {
   "cell_type": "markdown",
   "metadata": {},
   "source": [
    "<img style='width: 500px; margin: 0px; float: left; border: 0px solid black;' src=\"fn9.png\">"
   ]
  },
  {
   "cell_type": "markdown",
   "metadata": {},
   "source": [
    "<img style='width: 500px; margin: 0px; float: left; border: 0px solid black;' src=\"fn10.png\">"
   ]
  },
  {
   "cell_type": "markdown",
   "metadata": {},
   "source": [
    "* Evaluate and export `umx`, `umy` and `umz` from _`COMSOL Multiphysics`_ and plot them in the notebook. `umx`, `umy` and `umz` are the floor's midsurface displacements (one at each floor's corner) in the $x$, $y$ and $z$ direction."
   ]
  },
  {
   "cell_type": "code",
   "execution_count": null,
   "metadata": {},
   "outputs": [],
   "source": [
    "comsol_eigs3D = ...\n",
    "\n",
    "print(comsol_eigs3D.columns)\n",
    "\n",
    "plt.ion()\n",
    "for i in range(10):\n",
    "    plt.plot(...,np.array([0,1,2,3]),'--s',label=r'$\\phi_{:>d}$'.format(i))\n",
    "\n",
    "plt.legend(frameon=False)\n",
    "plt.ioff()"
   ]
  },
  {
   "cell_type": "markdown",
   "metadata": {},
   "source": [
    "* Evaluate and export the Participation Factors $\\Gamma_{ij}$ from _`COMSOL Multiphysics`_ (*Hint*: Export Group `Participation Factors (Eigenfrequencies)`).\n",
    "\n",
    "*Nota bene*: Using modal participation factors is a way to characterize how much a certain mode will be excited by a rigid body acceleration $\\boldsymbol{d}_j$ in a certain direction $j$. The _normalized participation factor_ with respect to mode $i$ and excitation direction $j$, is defined as:\n",
    "\n",
    "$$\\tilde{\\Gamma}_{ij}=\\frac{\\left<\\boldsymbol{\\phi}_i,\\boldsymbol{M}.\\boldsymbol{d}_j\\right>}{\\left<\\boldsymbol{\\phi}_i,\\boldsymbol{M}.\\boldsymbol{\\phi}_j\\right>}=\\frac{\\Gamma_{ij}}{m_i}$$\n",
    "\n",
    "with $\\Gamma_{ij}=\\left<\\boldsymbol{\\phi}_i,\\boldsymbol{M}.\\boldsymbol{d}_j\\right>$ the Participation Factors and $m_i=\\left<\\boldsymbol{\\phi}_i,\\boldsymbol{M}.\\boldsymbol{\\phi}_j\\right>$ the $i^{\\text{th}}$ modal mass."
   ]
  },
  {
   "cell_type": "code",
   "execution_count": null,
   "metadata": {},
   "outputs": [],
   "source": [
    "comsol_Gamma3D = ...\n",
    "print(np.real(comsol_Gamma3D))"
   ]
  },
  {
   "cell_type": "markdown",
   "metadata": {},
   "source": [
    "* Evaluate and export the _effective modal masses_ $m_{\\text{eff},ij}$ and compare them with the _`COMSOL Multiphysics`_ ones\n",
    "\n",
    "*Nota bene*: in _`COMSOL Multiphysics`_  the `Effective Participation Mass (Eigenfrequencies)` are computed (in the `Export Group`). The _effective modal mass_ is a quantity related to the modal participation factor. The effective modal mass for mode $i$, with respect to excitation in direction $j$, is defined from the participation factor and the modal mass as:\n",
    "\n",
    "$$m_{\\text{eff},ij}=m_i\\cdot \\Gamma_{ij}^2$$"
   ]
  },
  {
   "cell_type": "code",
   "execution_count": null,
   "metadata": {},
   "outputs": [],
   "source": [
    "comsol_masses3D = ...\n",
    "print(np.real(comsol_masses3D))"
   ]
  },
  {
   "cell_type": "markdown",
   "metadata": {},
   "source": [
    "#### __[TASK #2] Story Shear Building Model (1D translation along $x$)__ [3/20 points]\n",
    "\n",
    "Verify the consistency of the 3D FEM _`COMSOL Multiphysics`_ model with the simplified 3DOF system.\n",
    "\n",
    "Constrain the structure in the $x$-$z$ plane. For each physical entity `Floors`, `Columns`, `Beams`, enable the adequate kinematic constraints. Constrain `Columns` to pure shear."
   ]
  },
  {
   "cell_type": "markdown",
   "metadata": {},
   "source": [
    "<img style='width: 700px; margin: 0px; float: left; border: 0px solid black;' src=\"images/double_clamped_beam.png\">"
   ]
  },
  {
   "cell_type": "markdown",
   "metadata": {},
   "source": [
    "* Compute the `Eigenfrequencies` study for 10 Eigen-frequencies (real) around 1 Hz and\n",
    "report the corresponding `Modal Shapes` here (snapshots and frequency values to be placed in the cell Report the Modal Shapes Eigen-frequencies from _`COMSOL Multiphysics`_)"
   ]
  },
  {
   "cell_type": "markdown",
   "metadata": {},
   "source": [
    "<img style='width: 500px; margin: 0px; float: left; border: 0px solid black;' src=\"fn1ssb.png\">"
   ]
  },
  {
   "cell_type": "markdown",
   "metadata": {},
   "source": [
    "<img style='width: 500px; margin: 0px; float: left; border: 0px solid black;' src=\"fn2ssb.png\">"
   ]
  },
  {
   "cell_type": "markdown",
   "metadata": {},
   "source": [
    "<img style='width: 500px; margin: 0px; float: left; border: 0px solid black;' src=\"fn3ssb.png\">"
   ]
  },
  {
   "cell_type": "markdown",
   "metadata": {},
   "source": [
    "* Compute the approximate mass and stiffness matrices of each story of the _`COMSOL Multiphysics`_ model\n",
    "\n",
    "_Nota Bene_: do not consider the masses of the beams and columns (double clamped beam)"
   ]
  },
  {
   "cell_type": "code",
   "execution_count": null,
   "metadata": {},
   "outputs": [],
   "source": [
    "k = ... # Columns' global stiffness\n",
    "m = ... # Floor mass [kg]\n",
    "\n",
    "# Mass matrix\n",
    "m1 = m\n",
    "m2 = m\n",
    "m3 = m\n",
    "M = np.array([[m1,0,0],[0,m2,0],[0,0,m3]])\n",
    "\n",
    "# Stiffness matrix\n",
    "k1 = k\n",
    "k2 = k\n",
    "k3 = k\n",
    "K = np.array([[k1+k2,-k2,0],[-k2,k2+k3,-k3],[0,-k3,k3]])"
   ]
  },
  {
   "cell_type": "markdown",
   "metadata": {},
   "source": [
    "* Compute the eigen-frequencies and  eigen-modes of the MDOF system. What are the natural frequencies? Do they correspond to the _`COMSOL Multiphysics`_ ones?"
   ]
  },
  {
   "cell_type": "markdown",
   "metadata": {},
   "source": [
    "Answer:"
   ]
  },
  {
   "cell_type": "code",
   "execution_count": null,
   "metadata": {},
   "outputs": [],
   "source": [
    "# find natural frequencies and mode shapes (https://docs.scipy.org/doc/scipy/reference/generated/scipy.linalg.eigh.html)\n",
    "evals, evecs = ...\n",
    "frequencies = ...\n",
    "print('f1 = {0} Hz, f2 = {1} Hz, f3 = {2} Hz '.format(*tuple(frequencies.round(2).tolist())))\n",
    "print('l1 = {0}, l2 = {1}, l3 = {2} '.format(*tuple(evecs.round(2).tolist())))\n",
    "\n",
    "plt.ion()\n",
    "plt.plot(np.concatenate([np.array([0]),evecs[:,0]]),np.array([0,1,2,3]),'--o',label=r'$\\phi_1$')\n",
    "plt.plot(np.concatenate([np.array([0]),evecs[:,1]]),np.array([0,1,2,3]),'--o',label=r'$\\phi_2$')\n",
    "plt.plot(np.concatenate([np.array([0]),evecs[:,2]]),np.array([0,1,2,3]),'--o',label=r'$\\phi_3$')\n",
    "plt.legend(frameon=False)\n",
    "plt.ioff()"
   ]
  },
  {
   "cell_type": "markdown",
   "metadata": {},
   "source": [
    "* Plot the eigen-modes of MDOF system and compare them to the _`COMSOL Multiphysics`_ ones (evaluated on at the midsurface of each floor)\n",
    "\n",
    "_Hint_: Export `umx`, `umy` and `umz` from _`COMSOL Multiphysics`_ and import the files in the notebook."
   ]
  },
  {
   "cell_type": "markdown",
   "metadata": {},
   "source": [
    "Answer:"
   ]
  },
  {
   "cell_type": "code",
   "execution_count": null,
   "metadata": {},
   "outputs": [],
   "source": [
    "comsol_eigs = ...\n",
    "print(np.real(comsol_eigs))"
   ]
  },
  {
   "cell_type": "code",
   "execution_count": null,
   "metadata": {},
   "outputs": [],
   "source": [
    "plt.ion()\n",
    "for i in range(10):\n",
    "    plt.plot(...,np.array([0,1,2,3]),'--s',label=r'$\\phi_{:>d}$'.format(i))\n",
    "\n",
    "plt.legend(frameon=False)\n",
    "plt.ioff()"
   ]
  },
  {
   "cell_type": "markdown",
   "metadata": {},
   "source": [
    "* Compute the Participation Factors $\\Gamma_{ij}$ and compare them to those from _`COMSOL Multiphysics`_ ((from Export Groups `Participation Factors (Eigenfrequencies)`)."
   ]
  },
  {
   "cell_type": "code",
   "execution_count": null,
   "metadata": {},
   "outputs": [],
   "source": [
    "# Analytical Compute modal Masses\n",
    "mM = ...\n",
    "print(\"Nodal mass 1: {:>.2f} kg\".format(mM[0]))\n",
    "print(\"Nodal mass 2: {:>.2f} kg\".format(mM[1]))\n",
    "print(\"Nodal mass 3: {:>.2f} kg\".format(mM[2]))\n",
    "\n",
    "# Analytical Participation Factors\n",
    "Gamma_tilde = ...\n",
    "\n",
    "print(Gamma_tilde.sum(axis=-1))"
   ]
  },
  {
   "cell_type": "code",
   "execution_count": null,
   "metadata": {},
   "outputs": [],
   "source": [
    "comsol_Gamma = ...\n",
    "print(np.real(comsol_Gamma))"
   ]
  },
  {
   "cell_type": "markdown",
   "metadata": {},
   "source": [
    "* Compute the _effective modal masses_ $m_{\\text{eff},ij}$ and compare them with the _`COMSOL Multiphysics`_ ones"
   ]
  },
  {
   "cell_type": "markdown",
   "metadata": {},
   "source": [
    "*Nota bene*: the `scipy` function `eigh` normalizes the eigenvector as:\n",
    "\n",
    "$$              \\boldsymbol{K} . \\boldsymbol{\\phi}_n = ω^2 \\cdot \\boldsymbol{M} . \\boldsymbol{\\phi}_n$$\n",
    "\n",
    "The corresponding `python` code:\n",
    "\n",
    "```\n",
    "              K @ vi = λ * M @ vi\n",
    "```\n",
    "with:\n",
    "\n",
    "$$\\lambda = \\omega_i^2$$\n",
    "\n",
    "\n",
    "$$\\boldsymbol{\\phi}_n^T . \\boldsymbol{K} . \\boldsymbol{\\phi}_n = \\omega_n^2$$\n",
    "$$\\boldsymbol{\\phi}_n^T . \\boldsymbol{M} . \\boldsymbol{\\phi}_n = 1$$"
   ]
  },
  {
   "cell_type": "code",
   "execution_count": null,
   "metadata": {},
   "outputs": [],
   "source": [
    "mMeff = ...\n",
    "print(mMeff)"
   ]
  },
  {
   "cell_type": "code",
   "execution_count": null,
   "metadata": {},
   "outputs": [],
   "source": [
    "comsol_masses = ...\n",
    "print(np.real(comsol_masses))"
   ]
  },
  {
   "cell_type": "markdown",
   "metadata": {},
   "source": [
    "#### __[TASK #3] _`COMSOL Multiphysic`_  3D Response to Earthquake loading__ [4/20 points]"
   ]
  },
  {
   "cell_type": "markdown",
   "metadata": {},
   "source": [
    "Consider the original 3D building (disable the kinematica constraints for Simple Shear Building)."
   ]
  },
  {
   "cell_type": "markdown",
   "metadata": {},
   "source": [
    "* Solve the SDOF problem for each eigen-mode, in order to find the modal amplitudes $\\alpha_n(t)$ (consider a critical damping $\\xi$=2%). Construct the external force for the seismic load induced by $\\boldsymbol{a}_{eq} = a_{eq}(t)\\begin{bmatrix} 1\\\\ 1\\\\ 1\\end{bmatrix} = a_{eq}(t)\\sum_{i=1}^3 \\boldsymbol{d}_i$ using the _`COMSOL Multiphysics`_ participation factors $\\Gamma_{ij}$\n",
    "\n",
    "\n",
    "_Nota Bene_:\n",
    "\n",
    "The second order equation $y''(t)= a y'(t)+ b y(t) + c(t)$ can be rewritten as a system:\n",
    "\n",
    "(1)   $y'(t) = z(t)$\n",
    "\n",
    "(2)   $z'(t) = a z(t) + b y(t) + c(t)$\n",
    "\n",
    "In this case, $a=0$ and $b=-\\boldsymbol{M^{-1}.K}$.\n",
    "\n",
    "The final first-order ordinary differential system of equations reads: \n",
    "\n",
    "$$\\boldsymbol{X}'(t)=\\boldsymbol{A.X(t)}+\\boldsymbol{b}(t)$$\n",
    "\n",
    "with $X(t)=\\begin{bmatrix} \\boldsymbol{q}(t)\\\\ \\boldsymbol{q}'(t) \\end{bmatrix}$ and $A=\\begin{bmatrix} \\boldsymbol{0} & \\boldsymbol{I} \\\\  -\\boldsymbol{M^{-1}.K} & \\boldsymbol{0} \\end{bmatrix}$ and with $\\boldsymbol{b}(t)=\\begin{bmatrix}0 \\\\ c(t)\\end{bmatrix}$"
   ]
  },
  {
   "cell_type": "code",
   "execution_count": null,
   "metadata": {},
   "outputs": [],
   "source": [
    "# Hint: use the scipy function solve_ivp (https://docs.scipy.org/doc/scipy/reference/generated/scipy.integrate.solve_ivp.html)\n",
    "from scipy.integrate import solve_ivp\n",
    "\n",
    "# Initial conditions\n",
    "y0 = np.zeros((1,))\n",
    "z0 = np.zeros((1,))\n",
    "X0 = np.concatenate([y0,z0])\n",
    "\n",
    "def solve2ndOrderODE(t,X,n,xi):\n",
    "    # with extra arguments args:\n",
    "    # n = number of mode\n",
    "    # xi = damping coefficient\n",
    "    ω_n = ... # n-th natural pulsation\n",
    "    Σj_Γ_nj = ...\n",
    "    fn = ... # project external force on the n-th eigen mode\n",
    "    return np.array([X[1],...]) # return [y(t),z(t)]"
   ]
  },
  {
   "cell_type": "code",
   "execution_count": null,
   "metadata": {},
   "outputs": [],
   "source": [
    "alpha1 = solve_ivp(solve2ndOrderODE, (0.0, dur), X0, t_eval=vtm, args=(0,0.02))\n",
    "\n",
    "\n",
    "plt.ion()\n",
    "\n",
    "fig,axs = plt.subplots(2,1,sharex=True)\n",
    "axs[0].plot(alpha1.t,alpha1.y[0,:])\n",
    "axs[0].legend([r'$q_1$',],frameon=False)\n",
    "axs[0].set_xlabel(r'$t [s]$')\n",
    "axs[0].set_ylabel(r'$q(t) [m]$')\n",
    "\n",
    "axs[1].plot(alpha1.t,alpha1.y[1,:])\n",
    "axs[1].legend([r'$\\dot{q}_1$',],frameon=False)\n",
    "axs[1].set_xlabel(r'$t [s]$')\n",
    "axs[1].set_ylabel(r'$\\dot{q}(t) [m/s]$')\n",
    "\n",
    "plt.ioff()"
   ]
  },
  {
   "cell_type": "code",
   "execution_count": null,
   "metadata": {},
   "outputs": [],
   "source": [
    "alpha2 = solve_ivp(solve2ndOrderODE, (0.0, dur), X0, t_eval=vtm, args=(1,0.02))\n",
    "\n",
    "plt.ion()\n",
    "\n",
    "fig,axs = plt.subplots(2,1,sharex=True)\n",
    "axs[0].plot(alpha1.t,alpha2.y[0,:])\n",
    "axs[0].legend([r'$q_2$',],frameon=False)\n",
    "axs[0].set_xlabel(r'$t [s]$')\n",
    "axs[0].set_ylabel(r'$q(t) [m]$')\n",
    "\n",
    "axs[1].plot(alpha1.t,alpha2.y[1,:])\n",
    "axs[1].legend([r'$\\dot{q}_2$',],frameon=False)\n",
    "axs[1].set_xlabel(r'$t [s]$')\n",
    "axs[1].set_ylabel(r'$\\dot{q}(t) [m/s]$')\n",
    "\n",
    "plt.ioff()"
   ]
  },
  {
   "cell_type": "code",
   "execution_count": null,
   "metadata": {},
   "outputs": [],
   "source": [
    "alpha3 = solve_ivp(solve2ndOrderODE, (0.0, dur), X0, t_eval=vtm, args=(2,0.02))\n",
    "\n",
    "plt.ion()\n",
    "\n",
    "fig,axs = plt.subplots(2,1,sharex=True)\n",
    "axs[0].plot(alpha1.t,alpha3.y[0,:])\n",
    "axs[0].legend([r'$q_3$',],frameon=False)\n",
    "axs[0].set_xlabel(r'$t [s]$')\n",
    "axs[0].set_ylabel(r'$q(t) [m]$')\n",
    "\n",
    "axs[1].plot(alpha1.t,alpha3.y[1,:])\n",
    "axs[1].legend([r'$\\dot{q}_3$',],frameon=False)\n",
    "axs[1].set_xlabel(r'$t [s]$')\n",
    "axs[1].set_ylabel(r'$\\dot{q}(t) [m/s]$')\n",
    "\n",
    "plt.ioff()"
   ]
  },
  {
   "cell_type": "code",
   "execution_count": null,
   "metadata": {},
   "outputs": [],
   "source": [
    "alpha4 = solve_ivp(solve2ndOrderODE, (0.0, dur), X0, t_eval=vtm, args=(3,0.02))\n",
    "\n",
    "plt.ion()\n",
    "\n",
    "fig,axs = plt.subplots(2,1,sharex=True)\n",
    "axs[0].plot(alpha1.t,alpha4.y[0,:])\n",
    "axs[0].legend([r'$q_4$',],frameon=False)\n",
    "axs[0].set_xlabel(r'$t [s]$')\n",
    "axs[0].set_ylabel(r'$q(t) [m]$')\n",
    "\n",
    "axs[1].plot(alpha1.t,alpha4.y[1,:])\n",
    "axs[1].legend([r'$\\dot{q}_4$',],frameon=False)\n",
    "axs[1].set_xlabel(r'$t [s]$')\n",
    "axs[1].set_ylabel(r'$\\dot{q}(t) [m/s]$')\n",
    "\n",
    "plt.ioff()"
   ]
  },
  {
   "cell_type": "code",
   "execution_count": null,
   "metadata": {},
   "outputs": [],
   "source": [
    "alpha5 = solve_ivp(solve2ndOrderODE, (0.0, dur), X0, t_eval=vtm, args=(4,0.02))\n",
    "\n",
    "plt.ion()\n",
    "\n",
    "fig,axs = plt.subplots(2,1,sharex=True)\n",
    "axs[0].plot(alpha1.t,alpha5.y[0,:])\n",
    "axs[0].legend([r'$q_5$',],frameon=False)\n",
    "axs[0].set_xlabel(r'$t [s]$')\n",
    "axs[0].set_ylabel(r'$q(t) [m]$')\n",
    "\n",
    "axs[1].plot(alpha1.t,alpha5.y[1,:])\n",
    "axs[1].legend([r'$\\dot{q}_5$',],frameon=False)\n",
    "axs[1].set_xlabel(r'$t [s]$')\n",
    "axs[1].set_ylabel(r'$\\dot{q}(t) [m/s]$')\n",
    "\n",
    "plt.ioff()"
   ]
  },
  {
   "cell_type": "code",
   "execution_count": null,
   "metadata": {},
   "outputs": [],
   "source": [
    "alpha6 = solve_ivp(solve2ndOrderODE, (0.0, dur), X0, t_eval=vtm, args=(5,0.02))\n",
    "\n",
    "plt.ion()\n",
    "\n",
    "fig,axs = plt.subplots(2,1,sharex=True)\n",
    "axs[0].plot(alpha1.t,alpha6.y[0,:])\n",
    "axs[0].legend([r'$q_6$',],frameon=False)\n",
    "axs[0].set_xlabel(r'$t [s]$')\n",
    "axs[0].set_ylabel(r'$q(t) [m]$')\n",
    "\n",
    "axs[1].plot(alpha1.t,alpha6.y[1,:])\n",
    "axs[1].legend([r'$\\dot{q}_6$',],frameon=False)\n",
    "axs[1].set_xlabel(r'$t [s]$')\n",
    "axs[1].set_ylabel(r'$\\dot{q}(t) [m/s]$')\n",
    "\n",
    "plt.ioff()"
   ]
  },
  {
   "cell_type": "code",
   "execution_count": null,
   "metadata": {},
   "outputs": [],
   "source": [
    "alpha7 = solve_ivp(solve2ndOrderODE, (0.0, dur), X0, t_eval=vtm, args=(6,0.02))\n",
    "\n",
    "plt.ion()\n",
    "\n",
    "fig,axs = plt.subplots(2,1,sharex=True)\n",
    "axs[0].plot(alpha1.t,alpha7.y[0,:])\n",
    "axs[0].legend([r'$q_7$',],frameon=False)\n",
    "axs[0].set_xlabel(r'$t [s]$')\n",
    "axs[0].set_ylabel(r'$q(t) [m]$')\n",
    "\n",
    "axs[1].plot(alpha1.t,alpha7.y[1,:])\n",
    "axs[1].legend([r'$\\dot{q}_7$',],frameon=False)\n",
    "axs[1].set_xlabel(r'$t [s]$')\n",
    "axs[1].set_ylabel(r'$\\dot{q}(t) [m/s]$')\n",
    "\n",
    "plt.ioff()"
   ]
  },
  {
   "cell_type": "code",
   "execution_count": null,
   "metadata": {},
   "outputs": [],
   "source": [
    "alpha8 = solve_ivp(solve2ndOrderODE, (0.0, dur), X0, t_eval=vtm, args=(7,0.02))\n",
    "\n",
    "plt.ion()\n",
    "\n",
    "fig,axs = plt.subplots(2,1,sharex=True)\n",
    "axs[0].plot(alpha1.t,alpha8.y[0,:])\n",
    "axs[0].legend([r'$q_8$',],frameon=False)\n",
    "axs[0].set_xlabel(r'$t [s]$')\n",
    "axs[0].set_ylabel(r'$q(t) [m]$')\n",
    "\n",
    "axs[1].plot(alpha1.t,alpha8.y[1,:])\n",
    "axs[1].legend([r'$\\dot{q}_8$',],frameon=False)\n",
    "axs[1].set_xlabel(r'$t [s]$')\n",
    "axs[1].set_ylabel(r'$\\dot{q}(t) [m/s]$')\n",
    "\n",
    "plt.ioff()"
   ]
  },
  {
   "cell_type": "code",
   "execution_count": null,
   "metadata": {},
   "outputs": [],
   "source": [
    "alpha9 = solve_ivp(solve2ndOrderODE, (0.0, dur), X0, t_eval=vtm, args=(8,0.02))\n",
    "\n",
    "plt.ion()\n",
    "\n",
    "fig,axs = plt.subplots(2,1,sharex=True)\n",
    "axs[0].plot(alpha1.t,alpha9.y[0,:])\n",
    "axs[0].legend([r'$q_9$',],frameon=False)\n",
    "axs[0].set_xlabel(r'$t [s]$')\n",
    "axs[0].set_ylabel(r'$q(t) [m]$')\n",
    "\n",
    "axs[1].plot(alpha1.t,alpha9.y[1,:])\n",
    "axs[1].legend([r'$\\dot{q}_9$',],frameon=False)\n",
    "axs[1].set_xlabel(r'$t [s]$')\n",
    "axs[1].set_ylabel(r'$\\dot{q}(t) [m/s]$')\n",
    "\n",
    "plt.ioff()"
   ]
  },
  {
   "cell_type": "code",
   "execution_count": null,
   "metadata": {},
   "outputs": [],
   "source": [
    "alpha10 = solve_ivp(solve2ndOrderODE, (0.0, dur), X0, t_eval=vtm, args=(9,0.02))\n",
    "\n",
    "plt.ion()\n",
    "\n",
    "fig,axs = plt.subplots(2,1,sharex=True)\n",
    "axs[0].plot(alpha1.t,alpha10.y[0,:])\n",
    "axs[0].legend([r'$q_{10}$',],frameon=False)\n",
    "axs[0].set_xlabel(r'$t [s]$')\n",
    "axs[0].set_ylabel(r'$q(t) [m]$')\n",
    "\n",
    "axs[1].plot(alpha1.t,alpha10.y[1,:])\n",
    "axs[1].legend([r'$\\dot{q}_{10}$',],frameon=False)\n",
    "axs[1].set_xlabel(r'$t [s]$')\n",
    "axs[1].set_ylabel(r'$\\dot{q}(t) [m/s]$')\n",
    "\n",
    "plt.ioff()"
   ]
  },
  {
   "cell_type": "markdown",
   "metadata": {},
   "source": [
    "* Compute the total response based on the $\\alpha_n(t)$ ahd $\\boldsymbol{\\phi}_n$ values"
   ]
  },
  {
   "cell_type": "markdown",
   "metadata": {},
   "source": [
    "Answer:"
   ]
  },
  {
   "cell_type": "code",
   "execution_count": null,
   "metadata": {},
   "outputs": [],
   "source": [
    "# Modal amplitudes (displacement)\n",
    "Alpha = np.array([alpha1.y[0,:],alpha2.y[0,:],alpha3.y[0,:],\n",
    "                  alpha4.y[0,:],alpha5.y[0,:],alpha6.y[0,:],\n",
    "                  alpha7.y[0,:],alpha8.y[0,:],alpha9.y[0,:],\n",
    "                 alpha10.y[0,:]])\n",
    "\n",
    "# Displacement\n",
    "u = ...\n",
    "\n",
    "\n",
    "# Modal amplitudes (velocity)\n",
    "AlphaDot = np.array([alpha1.y[1,:],alpha2.y[1,:],alpha3.y[1,:],\n",
    "                     alpha4.y[1,:],alpha5.y[1,:],alpha6.y[1,:],\n",
    "                     alpha7.y[1,:],alpha8.y[1,:],alpha9.y[1,:],\n",
    "                    alpha10.y[1,:]])\n",
    "\n",
    "\n",
    "# Velocity\n",
    "v = ..."
   ]
  },
  {
   "cell_type": "code",
   "execution_count": null,
   "metadata": {},
   "outputs": [],
   "source": [
    "plt.ion()\n",
    "\n",
    "fig,axs = plt.subplots(3,1,sharex=True,sharey=True)\n",
    "axs[0].plot(alpha1.t,u[0,:])\n",
    "axs[0].legend([r'$u_1$',],frameon=False)\n",
    "axs[0].set_xlabel(r'$t [s]$')\n",
    "axs[0].set_ylabel(r'$u_1(t) [m]$')\n",
    "\n",
    "axs[1].plot(alpha2.t,u[1,:])\n",
    "axs[1].legend([r'$u_2$',],frameon=False)\n",
    "axs[1].set_xlabel(r'$t [s]$')\n",
    "axs[1].set_ylabel(r'$u_2(t) [m]$')\n",
    "\n",
    "axs[2].plot(alpha3.t,u[2,:])\n",
    "axs[2].legend([r'$u_3$',],frameon=False)\n",
    "axs[2].set_xlabel(r'$t [s]$')\n",
    "axs[2].set_ylabel(r'$u_3(t) [m]$')\n",
    "\n",
    "plt.ioff()\n",
    "\n",
    "np.savetxt('q1.csv',np.hstack([vtm.reshape(-1,1),u[0,:].reshape(-1,1)]),delimiter = ',', fmt='%15.5f')\n",
    "np.savetxt('q2.csv',np.hstack([vtm.reshape(-1,1),u[1,:].reshape(-1,1)]),delimiter = ',', fmt='%15.5f')\n",
    "np.savetxt('q3.csv',np.hstack([vtm.reshape(-1,1),u[2,:].reshape(-1,1)]),delimiter = ',', fmt='%15.5f')"
   ]
  },
  {
   "cell_type": "code",
   "execution_count": null,
   "metadata": {},
   "outputs": [],
   "source": [
    "plt.ion()\n",
    "\n",
    "fig,axs = plt.subplots(3,1,sharex=True,sharey=True)\n",
    "axs[0].plot(alpha1.t,v[0,:])\n",
    "axs[0].legend([r'$v_1$',],frameon=False)\n",
    "axs[0].set_xlabel(r'$t [s]$')\n",
    "axs[0].set_ylabel(r'$v_1(t) [m/s]$')\n",
    "\n",
    "axs[1].plot(alpha2.t,v[1,:])\n",
    "axs[1].legend([r'$v_2$',],frameon=False)\n",
    "axs[1].set_xlabel(r'$t [s]$')\n",
    "axs[1].set_ylabel(r'$v_2(t) [m/s]$')\n",
    "\n",
    "axs[2].plot(alpha3.t,v[2,:])\n",
    "axs[2].legend([r'$v_3$',],frameon=False)\n",
    "axs[2].set_xlabel(r'$t [s]$')\n",
    "axs[2].set_ylabel(r'$v_3(t) [m/s]$')\n",
    "\n",
    "plt.ioff()"
   ]
  },
  {
   "cell_type": "markdown",
   "metadata": {},
   "source": [
    "* Compute and plot the _response spectrum_ for each modal amplitude $\\alpha_i$:\n",
    "\n",
    "$$S_d(\\alpha_i)=\\max_{t}\\vert \\alpha_i(t)\\vert$$\n",
    "\n",
    "and plot the values as a function of the associated natural frequency."
   ]
  },
  {
   "cell_type": "markdown",
   "metadata": {},
   "source": [
    "Answer:"
   ]
  },
  {
   "cell_type": "code",
   "execution_count": null,
   "metadata": {},
   "outputs": [],
   "source": [
    "Sd = ...\n",
    "\n",
    "plt.ion()\n",
    "col = np.random.rand(20,3)\n",
    "# tick_params(which='both', width=2)\n",
    "for i in range(10):\n",
    "    plt.vlines(np.real(comsol_eigs3D.iloc[i,0]),0.0,50.0,label=r'$f_{{{:>d}}} = {:>.1f}\\quadHz$'.format(i,np.real(comsol_eigs3D.iloc[i,0])),\n",
    "              color=col[2*i:2*i+1,:])\n",
    "\n",
    "plt.plot(np.real(comsol_eigs3D.iloc[:,0].values),Sd,'--o',color='black')\n",
    "plt.xlabel(r'$f [Hz]$')\n",
    "plt.ylabel(r'$Sd [m]$')\n",
    "plt.xscale('log')\n",
    "plt.yscale('log')\n",
    "plt.xlim(0.1,50)\n",
    "plt.grid(True, which='both')\n",
    "plt.legend(frameon=False)\n",
    "plt.ioff()"
   ]
  },
  {
   "cell_type": "markdown",
   "metadata": {},
   "source": [
    "Which mode dominates the transient response?"
   ]
  },
  {
   "cell_type": "markdown",
   "metadata": {},
   "source": [
    "Answer:"
   ]
  },
  {
   "cell_type": "markdown",
   "metadata": {},
   "source": [
    "The three translation modes"
   ]
  },
  {
   "cell_type": "markdown",
   "metadata": {},
   "source": [
    "#### __[TASK #4] Compute transfer function__  [4/20 points]\n",
    "\n",
    "For each mode, the transfer function $\\hat{H}_n(\\omega)$ reads:\n",
    "\n",
    "$$\\hat{\\boldsymbol{H}}(\\omega)=\\sum_n H_n(\\omega)\\boldsymbol{\\phi}_n\\otimes\\boldsymbol{\\phi}_n$$\n",
    "\n",
    "* Compute the transfer function of the whole MDOF (consider a critical damping $\\xi$=2%)"
   ]
  },
  {
   "cell_type": "markdown",
   "metadata": {},
   "source": [
    "Answer: "
   ]
  },
  {
   "cell_type": "code",
   "execution_count": null,
   "metadata": {},
   "outputs": [],
   "source": [
    "def computeTF(sol,n,xi):\n",
    "    \n",
    "    ω_n = ... # n-th natural pulsation\n",
    "    Σj_Γ_nj = ...\n",
    "    fn = ... # project external force on the n-th eigen mode\n",
    "    fn = np.vectorize(fn)\n",
    "    \n",
    "    nfft = next_power_of_2(vtm.size)\n",
    "    dfq = ...\n",
    "    vfq = ...\n",
    "    Inp = ... # real fft\n",
    "    Out = ... # real fft\n",
    "    \n",
    "    return vfq,Out/(Inp+1.0e-4)\n",
    "\n",
    "vfq,H1 = computeTF(alpha1,0,0.02)\n",
    "_,H2 = computeTF(alpha2,1,0.02)\n",
    "_,H3 = computeTF(alpha3,2,0.02)\n",
    "_,H4 = computeTF(alpha1,3,0.02)\n",
    "_,H5 = computeTF(alpha2,4,0.02)\n",
    "_,H6 = computeTF(alpha3,5,0.02)\n",
    "_,H7 = computeTF(alpha1,6,0.02)\n",
    "_,H8 = computeTF(alpha2,7,0.02)\n",
    "_,H9 = computeTF(alpha3,8,0.02)\n",
    "_,H10 = computeTF(alpha1,9,0.02)\n",
    "\n",
    "# eigen vectors\n",
    "evecs = ...\n",
    "# norm of eigen vectors\n",
    "normevecs = np.linalg.inv(np.diag(np.linalg.norm(evecs,axis=0)))\n",
    "\n",
    "# Transfer function H\n",
    "H = np.einsum('ik,jk,kl->ijl',...)\n",
    "\n",
    "# Fourier's spectrum H1*phi1+H2*phi2+H3*phi3\n",
    "U = np.einsum('jk,kl->jl',...)"
   ]
  },
  {
   "cell_type": "markdown",
   "metadata": {},
   "source": [
    "* Plot the response `U` and the eigen frequencies previously identified. What do you observe?"
   ]
  },
  {
   "cell_type": "markdown",
   "metadata": {},
   "source": [
    "Answer:"
   ]
  },
  {
   "cell_type": "code",
   "execution_count": null,
   "metadata": {},
   "outputs": [],
   "source": [
    "plt.ion\n",
    "plt.loglog(vfq,np.abs(U.T))\n",
    "plt.vlines(np.real(comsol_eigs3D.iloc[0,0]),0.1,1.0,color='blue',linestyle='--')\n",
    "plt.vlines(np.real(comsol_eigs3D.iloc[1,0]),0.1,1.0,color='orange',linestyle='--')\n",
    "plt.vlines(np.real(comsol_eigs3D.iloc[2,0]),0.1,1.0,color='green',linestyle='--')\n",
    "plt.xlabel(r'$f [Hz]$')\n",
    "plt.xlim([0.1,10.0])\n",
    "plt.ylim([0.1,10.0])\n",
    "plt.ylabel(r'$\\vert TF\\vert [1]$')\n",
    "plt.legend([r'$u_{{{:d}}}(f)$'.format(m) for m in range(3)]+[r'$f_{{{:d}}}$'.format(m) for m in range(3)],frameon=False,loc='upper left')\n",
    "plt.ioff()"
   ]
  },
  {
   "cell_type": "markdown",
   "metadata": {},
   "source": [
    "Explanation: the peaks correspond to the eigen frequencies. Amplitudes are different. The first mode is dominant"
   ]
  },
  {
   "cell_type": "markdown",
   "metadata": {},
   "source": [
    "#### __[TASK #5] Response to a random load (wind)__  [7/20 points]\n",
    "\n",
    "We study the main characteristics of the wind loading. The horizontal velocity of the wind is modeled here in the following way:\n",
    "\n",
    "$$V(t) = \\mu_V+\\beta(t)$$\n",
    "\n",
    "where $\\beta(t)$ is a centered gaussian random process, with a given Power Spectral Density $S_V(f)$ (with $f$ being the frequency, in Hz), and $\\mu_V$ = 100 km/h. The velocity field is therefore random and $S_V(f)$ reads:\n",
    "\n",
    "$$ S_V(f) = \\frac{4\\kappa\\cdot \\mu_V\\cdot L}{\\left(2+\\left(\\frac{L\\cdot f}{\\mu_V} \\right)^2\\right)^{\\frac{5}{6}} }$$\n",
    "\n",
    "with $\\kappa$ and $L$ two constants."
   ]
  },
  {
   "cell_type": "markdown",
   "metadata": {},
   "source": [
    "* Plot the spectrum $S_V(f)$ as a function of $f$ (both phase and amplitude!). What are the mathematical properties of this Power Spectral Density?\n",
    "\n",
    "_Nota Bene_: use the frequency vector employed in the previous steps, considering the time vector `vtm` as time domain of reference."
   ]
  },
  {
   "cell_type": "markdown",
   "metadata": {},
   "source": [
    "Answer:"
   ]
  },
  {
   "cell_type": "code",
   "execution_count": null,
   "metadata": {},
   "outputs": [],
   "source": [
    "muV = 1.0e5/3600.0 # mean velocity at 10m height: 100 km/h\n",
    "kappa = 0.002 # constant\n",
    "Lcar = 1200.0 # constant\n",
    "\n",
    "nfft = next_power_of_2(vtm.size)\n",
    "dfq = ...\n",
    "vfq = ...\n",
    "    \n",
    "Sv = ...\n",
    "\n",
    "plt.ion()\n",
    "plt.loglog(vfq,Sv(vfq),color='black')\n",
    "plt.xlim(0.01,10.0)\n",
    "plt.xlabel(r'$f [Hz]$')\n",
    "plt.ylabel(r'$S_V(f) [m^2]$')\n",
    "plt.ioff()"
   ]
  },
  {
   "cell_type": "markdown",
   "metadata": {},
   "source": [
    "In order to generate a plausible realization of the wind velocity field $\\beta_j(t)$, the following formula is adopted:\n",
    "\n",
    "$$ \\beta_j(t) = 2\\cdot\\sqrt{\\frac{2}{\\pi}}\\cdot \\sum_{k=1}^{N_f} \\sqrt{2\\cdot\\pi\\cdot S_V(f_k)\\cdot \\Delta f }\\cdot \\rho_{jk} \\cdot\\cos\\left( 2\\pi f_k t -2\\pi\\phi_{jk}\\right)$$\n",
    "\n",
    "with:\n",
    " - $\\Delta f$ : frequency step\n",
    " - $N_f$: number of frequency points \n",
    " - $\\rho_{jk}=\\vert a_{jk}+i\\cdot b_{jk} \\vert$: $j^{\\text{th}}$-realization of the random vector $\\boldsymbol{\\rho}$ with $a_{jk}\\sim\\mathcal{N}(0,1)$ and $b_{jk}\\sim\\mathcal{N}(0,1)$\n",
    " - $\\phi_{jk}$: $j^{\\text{th}}$-realization of the random vector $\\boldsymbol{\\phi}$ with $\\phi_{jk}\\sim\\mathcal{U}(0,1)$"
   ]
  },
  {
   "cell_type": "markdown",
   "metadata": {},
   "source": [
    "* Generate $N_s$ samples of wind velocity field"
   ]
  },
  {
   "cell_type": "markdown",
   "metadata": {},
   "source": [
    "Answer:"
   ]
  },
  {
   "cell_type": "code",
   "execution_count": null,
   "metadata": {},
   "outputs": [],
   "source": [
    "# Hint: Use the numpy random number generator https://numpy.org/doc/stable/reference/random/index.html\n",
    "from numpy.random import default_rng\n",
    "rng = default_rng()\n",
    "\n",
    "Ns = 10 # number of wind samples\n",
    "\n",
    "def beta_i(t):\n",
    "    nfft = next_power_of_2(vtm.size)\n",
    "    dfq = ...\n",
    "    vfq = ...\n",
    "    vwo = ...\n",
    "    \n",
    "    # random amplitude (Normal distribution)\n",
    "    a = ...\n",
    "    b = ...\n",
    "    rho = ...\n",
    "\n",
    "    # random phase (Uniform distribution)\n",
    "    phi = ...\n",
    "\n",
    "    return ...\n",
    "\n",
    "def beta(t,Ns):\n",
    "    all_beta=np.empty((Ns,vtm.size))\n",
    "    for i in range(Ns):\n",
    "        all_beta[i,:]=beta_i(t)\n",
    "    return all_beta\n",
    "\n",
    "beta_realizations = beta(vtm,Ns)\n",
    "Ebeta = np.mean(beta_realizations,0)"
   ]
  },
  {
   "cell_type": "markdown",
   "metadata": {},
   "source": [
    "* Plot the $N_s$ realizations on a single graph"
   ]
  },
  {
   "cell_type": "markdown",
   "metadata": {},
   "source": [
    "Answer:"
   ]
  },
  {
   "cell_type": "code",
   "execution_count": null,
   "metadata": {},
   "outputs": [],
   "source": [
    "plt.ion()\n",
    "plt.plot(vtm,beta_realizations.T)\n",
    "plt.xlim(0.0,dur)\n",
    "plt.xlabel(r'$t [s]$')\n",
    "plt.ylabel(r'$\\beta [m/s]$')\n",
    "plt.ioff()"
   ]
  },
  {
   "cell_type": "markdown",
   "metadata": {},
   "source": [
    "* Compute the Fourier's transform of each realization and plot them on a single graph"
   ]
  },
  {
   "cell_type": "markdown",
   "metadata": {},
   "source": [
    "Answer:"
   ]
  },
  {
   "cell_type": "code",
   "execution_count": null,
   "metadata": {},
   "outputs": [],
   "source": [
    "nfft = next_power_of_2(vtm.size)\n",
    "dfq = ...\n",
    "vfq = ...\n",
    "beta_fs = np.fft.rfft(beta_realizations,nfft,axis=-1)*dt # real fft\n",
    "\n",
    "\n",
    "plt.ion()\n",
    "plt.loglog(vfq,np.abs(beta_fs.T))\n",
    "plt.xlabel(r'$f [Hz]$')\n",
    "plt.ylabel(r'$\\vert\\mathcal{F}(\\beta)\\vert [m]$')\n",
    "plt.ioff()"
   ]
  },
  {
   "cell_type": "markdown",
   "metadata": {},
   "source": [
    "* Compute the approximated and the theoretical Power Spectral Density for the velocity field $V(t)$"
   ]
  },
  {
   "cell_type": "code",
   "execution_count": null,
   "metadata": {},
   "outputs": [],
   "source": [
    "# velocity realizations\n",
    "v_realizations = muV+beta_realizations\n",
    "# empirical velocity average\n",
    "Ev = ...\n",
    "v_fs = np.fft.rfft(v_realizations-Ev,nfft,axis=-1)*dt # real fft\n",
    "Sv_a = ... # approximated PSD\n",
    "\n",
    "plt.ion()\n",
    "plt.loglog(vfq,Sv_a.T,color='lightgrey',linewidth=0.1)\n",
    "plt.loglog(vfq,np.mean(Sv_a,0),label=r'$S_v^{ap}$',color='grey')\n",
    "plt.loglog(vfq,Sv(vfq),label=r'$S_v^{th}$',color='black',linestyle='--')\n",
    "plt.legend(frameon=False)\n",
    "plt.xlabel(r'$f [Hz]$')\n",
    "plt.ylabel(r'$S(f) [m^2/s]$')\n",
    "plt.ioff()"
   ]
  },
  {
   "cell_type": "markdown",
   "metadata": {},
   "source": [
    "The pressure $p$ applied by the wind on a given surface can be related to the square of the velocity through the formula:\n",
    "\n",
    "$$ p(t)=\\frac{1}{2}\\rho_aC_D V^2(t)$$\n",
    "\n",
    "with $\\rho_a$=1.2 kg/m$^3$ being the unit mass density of the air and $C_D$ the drag coefficient."
   ]
  },
  {
   "cell_type": "code",
   "execution_count": null,
   "metadata": {},
   "outputs": [],
   "source": [
    "rho_a = 1.2 # kg/m**3\n",
    "Cd = 0.8"
   ]
  },
  {
   "cell_type": "markdown",
   "metadata": {},
   "source": [
    "However, in practice a linearized formula for the pressure field is adopted hereafter.\n",
    "\n",
    "* Compute the linearized expression of the pressure field, considering small fluctuations $\\beta(t)\\ll 1$"
   ]
  },
  {
   "cell_type": "markdown",
   "metadata": {},
   "source": [
    "Answer:"
   ]
  },
  {
   "cell_type": "markdown",
   "metadata": {},
   "source": [
    "$$p(t)=\\frac{1}{2}\\rho_a C_D\\mu_V^2\\left(1+2\\frac{\\beta(t)}{\\mu_V}\\right)$$"
   ]
  },
  {
   "cell_type": "markdown",
   "metadata": {},
   "source": [
    "* Compute several samples of the pressure field for $z$=1 m, evaluate its power spectrum $S_p(f)$ and compare them with the theoretical spectrum:\n",
    "\n",
    "$$S_p(f)=4\\left(\\frac{\\mu_p}{\\mu_V}\\right)^2 S_V(f)$$\n",
    "\n",
    "where $\\mu_p$ is the mean pressure."
   ]
  },
  {
   "cell_type": "markdown",
   "metadata": {},
   "source": [
    "Answer:"
   ]
  },
  {
   "cell_type": "code",
   "execution_count": null,
   "metadata": {},
   "outputs": [],
   "source": [
    "# Mean pressure field\n",
    "mup = ...\n",
    "\n",
    "# theoretical PSD\n",
    "Sp_t = ...\n",
    "\n",
    "# pressure field\n",
    "p_realizations = ...\n",
    "# empirical pressure average\n",
    "Ep = ...\n",
    "\n",
    "p_fs = np.fft.rfft(p_realizations-Ep,nfft,axis=-1)*dt # real fft\n",
    "Sp_a = ...\n",
    "\n",
    "\n",
    "plt.ion()\n",
    "plt.loglog(vfq,Sp_a.T,color='lightgrey',linewidth=0.5)\n",
    "plt.loglog(vfq,np.mean(Sp_a,0),label=r'$S_p^{ap}$',color='grey',linewidth=0.5)\n",
    "plt.loglog(vfq,Sp_t(vfq),label=r'$S_p^{th}$',color='black',linestyle='--')\n",
    "plt.legend(frameon=False)\n",
    "plt.xlabel(r'$f [Hz]$')\n",
    "plt.ylabel(r'$S(f) [N^2s/m^4]$')\n",
    "plt.ioff()"
   ]
  },
  {
   "cell_type": "markdown",
   "metadata": {},
   "source": [
    "Adopting the _`COMSOL Multiphyiscs`_ 3D building, consider the same pressure field $p(t)$ on each translational dof, using the previously computed _participation factors_ and with a lateral surface (where the wind is applied) equal to $S$=4 m$^2$"
   ]
  },
  {
   "cell_type": "markdown",
   "metadata": {},
   "source": [
    "* Compute the amplitudes $\\alpha_n$ for for all the $N_S$ random wind load realizations \n",
    "\n",
    "_Nota bene_: use `solve2ndOrderODE`!"
   ]
  },
  {
   "cell_type": "markdown",
   "metadata": {},
   "source": [
    "Answer:"
   ]
  },
  {
   "cell_type": "code",
   "execution_count": null,
   "metadata": {},
   "outputs": [],
   "source": [
    "# Initial conditions\n",
    "y0 = np.zeros((1,))\n",
    "z0 = np.zeros((1,))\n",
    "X0 = np.concatenate([y0,z0])\n",
    "S= 4.0 # lateral surface area [m**2]\n",
    "\n",
    "def solve2ndOrderODE(t,X,n,xi,i):\n",
    "    # with extra arguments args:\n",
    "    # n = number of mode\n",
    "    # xi = damping coefficient\n",
    "    ω_n = ... # n-th natural pulsation\n",
    "    Σj_Γ_nj = ...\n",
    "    \n",
    "    pwind = lambda s: ...\n",
    "    fn = lambda s: ... # project external force on the n-th eigen mode\n",
    "    \n",
    "    return np.array([X[1],...)])\n",
    "\n",
    "AlphaRndm = np.empty((Ns,3,ntm))\n",
    "AlphaDotRndm = np.empty((Ns,3,ntm))\n",
    "uRndm = np.empty((Ns,3,ntm))\n",
    "vRndm = np.empty((Ns,3,ntm))\n",
    "\n",
    "# important modes : 0, 3, 5 (translational in x direction)\n",
    "for r in range(Ns):\n",
    "    alpha1Rndm = solve_ivp(solve2ndOrderODE, (0.0, dur), X0, t_eval=vtm, args=(0,0.02,r))\n",
    "#     alpha2Rndm = solve_ivp(solve2ndOrderODE, (0.0, dur), X0, t_eval=vtm, args=(1,0.02,r))\n",
    "#     alpha3Rndm = solve_ivp(solve2ndOrderODE, (0.0, dur), X0, t_eval=vtm, args=(2,0.02,r))\n",
    "    alpha4Rndm = solve_ivp(solve2ndOrderODE, (0.0, dur), X0, t_eval=vtm, args=(3,0.02,r))\n",
    "#     alpha5Rndm = solve_ivp(solve2ndOrderODE, (0.0, dur), X0, t_eval=vtm, args=(4,0.02,r))\n",
    "    alpha6Rndm = solve_ivp(solve2ndOrderODE, (0.0, dur), X0, t_eval=vtm, args=(5,0.02,r))\n",
    "#     alpha7Rndm = solve_ivp(solve2ndOrderODE, (0.0, dur), X0, t_eval=vtm, args=(6,0.02,r))\n",
    "#     alpha8Rndm = solve_ivp(solve2ndOrderODE, (0.0, dur), X0, t_eval=vtm, args=(7,0.02,r))\n",
    "#     alpha9Rndm = solve_ivp(solve2ndOrderODE, (0.0, dur), X0, t_eval=vtm, args=(8,0.02,r))\n",
    "#     alpha10Rndm = solve_ivp(solve2ndOrderODE, (0.0, dur), X0, t_eval=vtm, args=(9,0.02,r))\n",
    "    \n",
    "    # Modal amplitudes (displacement)\n",
    "    AlphaRndm[r,:,:] = np.vstack([alpha1Rndm.y[0,:],alpha4Rndm.y[0,:],alpha6Rndm.y[0,:]])\n",
    "\n",
    "    # Displacement\n",
    "    uRndm[r,:,:] = ...\n",
    "\n",
    "    # Modal amplitudes (velocity)\n",
    "    AlphaDotRndm[r,:,:] = np.vstack([alpha1Rndm.y[1,:],alpha2Rndm.y[1,:],alpha3Rndm.y[1,:]])\n",
    "\n",
    "    # Velocity\n",
    "    vRndm[r,:,:] = ..."
   ]
  },
  {
   "cell_type": "code",
   "execution_count": null,
   "metadata": {},
   "outputs": [],
   "source": [
    "plt.ion()\n",
    "\n",
    "fig,axs = plt.subplots(2,1,sharex=True)\n",
    "axs[0].plot(vtm,AlphaRndm[:,0,:].squeeze().T)\n",
    "axs[0].legend([r'$\\alpha_1$',],frameon=False)\n",
    "axs[0].set_xlabel(r'$t [s]$')\n",
    "axs[0].set_ylabel(r'$\\alpha_1(t) [m]$')\n",
    "# axs[0].set_ylim(-600.0,600.0)\n",
    "\n",
    "axs[1].plot(vtm,AlphaDotRndm[:,0,:].squeeze().T)\n",
    "axs[1].legend([r'$\\dot{\\alpha}_1$',],frameon=False)\n",
    "axs[1].set_xlabel(r'$t [s]$')\n",
    "axs[1].set_ylabel(r'$\\dot{\\alpha}_1(t) [m/s]$')\n",
    "# axs[1].set_ylim(-5500.0,5500.0)\n",
    "\n",
    "plt.ioff()"
   ]
  },
  {
   "cell_type": "code",
   "execution_count": null,
   "metadata": {},
   "outputs": [],
   "source": [
    "plt.ion()\n",
    "\n",
    "fig,axs = plt.subplots(2,1,sharex=True)\n",
    "axs[0].plot(vtm,AlphaRndm[:,1,:].squeeze().T)\n",
    "axs[0].legend([r'$\\alpha_2$',],frameon=False)\n",
    "axs[0].set_xlabel(r'$t [s]$')\n",
    "axs[0].set_ylabel(r'$\\alpha_2(t) [m]$')\n",
    "# axs[0].set_ylim(-600.0,600.0)\n",
    "\n",
    "axs[1].plot(vtm,AlphaDotRndm[:,1,:].squeeze().T)\n",
    "axs[1].legend([r'$\\dot{\\alpha}_2$',],frameon=False)\n",
    "axs[1].set_xlabel(r'$t [s]$')\n",
    "axs[1].set_ylabel(r'$\\dot{\\alpha}_2(t) [m/s]$')\n",
    "# axs[1].set_ylim(-5500.0,5500.0)\n",
    "\n",
    "plt.ioff()"
   ]
  },
  {
   "cell_type": "code",
   "execution_count": null,
   "metadata": {},
   "outputs": [],
   "source": [
    "plt.ion()\n",
    "\n",
    "fig,axs = plt.subplots(2,1,sharex=True)\n",
    "axs[0].plot(vtm,AlphaRndm[:,2,:].squeeze().T)\n",
    "axs[0].legend([r'$\\alpha_3$',],frameon=False)\n",
    "axs[0].set_xlabel(r'$t [s]$')\n",
    "axs[0].set_ylabel(r'$\\alpha_3(t) [m]$')\n",
    "# axs[0].set_ylim(-600.0,600.0)\n",
    "\n",
    "axs[1].plot(vtm,AlphaDotRndm[:,2,:].squeeze().T)\n",
    "axs[1].legend([r'$\\dot{\\alpha}_3$',],frameon=False)\n",
    "axs[1].set_xlabel(r'$t [s]$')\n",
    "axs[1].set_ylabel(r'$\\dot{\\alpha}_3(t) [m/s]$')\n",
    "# axs[1].set_ylim(-5500.0,5500.0)\n",
    "\n",
    "plt.ioff()"
   ]
  },
  {
   "cell_type": "markdown",
   "metadata": {},
   "source": [
    "* Plot the average Power Spectral Density $\\boldsymbol{S}_u$ for the each dof and the theoretical one (use the theoretical $FRF$ computed above!)"
   ]
  },
  {
   "cell_type": "markdown",
   "metadata": {},
   "source": [
    "Answer:"
   ]
  },
  {
   "cell_type": "code",
   "execution_count": null,
   "metadata": {},
   "outputs": [],
   "source": [
    "# Conjugate transpose Transfer function\n",
    "HcT = np.transpose(np.conjugate(H),(1,0,2))\n",
    "\n",
    "def compute_Su(fq,Sf):\n",
    "    fq_idx = np.argwhere(np.isin(vfq,fq))\n",
    "\n",
    "    Su = np.empty((3,3,fq.size),dtype=np.complex64)\n",
    "    for i in fq_idx:\n",
    "        Su[:,:,i] = ...\n",
    "    return np.real(Su)\n",
    "\n",
    "Su_a = compute_Su(vfq,Sf_a)\n",
    "Su_t = compute_Su(vfq,Sf_t(vfq))"
   ]
  },
  {
   "cell_type": "code",
   "execution_count": null,
   "metadata": {},
   "outputs": [],
   "source": [
    "plt.ion()\n",
    "fig,axs = plt.subplots(3,3,sharex=True,sharey=True)\n",
    "axs[0,0].loglog(vfq,Su_a[0,0,:],label=r'$S_{u1-u1}^{ap}$')\n",
    "axs[0,1].loglog(vfq,Su_a[0,1,:],label=r'$S_{u1-u2}^{ap}$')\n",
    "axs[0,2].loglog(vfq,Su_a[0,2,:],label=r'$S_{u1-u3}^{ap}$')\n",
    "axs[1,0].loglog(vfq,Su_a[1,0,:],label=r'$S_{u2-u1}^{ap}$')\n",
    "axs[1,1].loglog(vfq,Su_a[1,1,:],label=r'$S_{u2-u2}^{ap}$')\n",
    "axs[1,2].loglog(vfq,Su_a[1,2,:],label=r'$S_{u2-u3}^{ap}$')\n",
    "axs[2,0].loglog(vfq,Su_a[2,0,:],label=r'$S_{u3-u1}^{ap}$')\n",
    "axs[2,1].loglog(vfq,Su_a[2,1,:],label=r'$S_{u3-u2}^{ap}$')\n",
    "axs[2,2].loglog(vfq,Su_a[2,2,:],label=r'$S_{u3-u3}^{ap}$')\n",
    "\n",
    "axs[0,0].loglog(vfq,Su_t[0,0,:],label=r'$S_{u1-u1}^{th}$')\n",
    "axs[0,1].loglog(vfq,Su_t[0,1,:],label=r'$S_{u1-u2}^{th}$')\n",
    "axs[0,2].loglog(vfq,Su_t[0,2,:],label=r'$S_{u1-u3}^{th}$')\n",
    "axs[1,0].loglog(vfq,Su_t[1,0,:],label=r'$S_{u2-u1}^{th}$')\n",
    "axs[1,1].loglog(vfq,Su_t[1,1,:],label=r'$S_{u2-u2}^{th}$')\n",
    "axs[1,2].loglog(vfq,Su_t[1,2,:],label=r'$S_{u2-u3}^{th}$')\n",
    "axs[2,0].loglog(vfq,Su_t[2,0,:],label=r'$S_{u3-u1}^{th}$')\n",
    "axs[2,1].loglog(vfq,Su_t[2,1,:],label=r'$S_{u3-u2}^{th}$')\n",
    "axs[2,2].loglog(vfq,Su_t[2,2,:],label=r'$S_{u3-u3}^{th}$')\n",
    "\n",
    "for ax in axs.reshape(-1):\n",
    "    ax.legend(frameon=False)\n",
    "    ax.set_xlabel(r'$f [Hz]$')\n",
    "    ax.set_ylabel(r'$S(f) [N^2s]$')\n",
    "\n",
    "\n",
    "plt.ioff()"
   ]
  },
  {
   "cell_type": "code",
   "execution_count": null,
   "metadata": {},
   "outputs": [],
   "source": []
  }
 ],
 "metadata": {
  "kernelspec": {
   "display_name": "Python 3",
   "language": "python",
   "name": "python3"
  },
  "language_info": {
   "codemirror_mode": {
    "name": "ipython",
    "version": 3
   },
   "file_extension": ".py",
   "mimetype": "text/x-python",
   "name": "python",
   "nbconvert_exporter": "python",
   "pygments_lexer": "ipython3",
   "version": "3.9.7"
  }
 },
 "nbformat": 4,
 "nbformat_minor": 4
}
